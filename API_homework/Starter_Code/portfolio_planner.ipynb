{
 "cells": [
  {
   "cell_type": "code",
   "execution_count": 3,
   "metadata": {},
   "outputs": [],
   "source": [
    "import os\n",
    "import numpy as np\n",
    "import pandas as pd\n",
    "from datetime import datetime, timedelta\n",
    "import matplotlib.pyplot as plt\n",
    "%matplotlib inline"
   ]
  },
  {
   "cell_type": "code",
   "execution_count": 4,
   "metadata": {},
   "outputs": [],
   "source": [
    "np.random.seed(42)"
   ]
  },
  {
   "cell_type": "markdown",
   "metadata": {},
   "source": [
    "# Portfolio Planner\n",
    "\n",
    "In this activity, you will use the iexfinance api to grab historical data for a 60/40 portfolio using `SPY` to represent the stock portion and `AGG` to represent the bonds."
   ]
  },
  {
   "cell_type": "code",
   "execution_count": 5,
   "metadata": {},
   "outputs": [
    {
     "name": "stdout",
     "output_type": "stream",
     "text": [
      "None\n"
     ]
    }
   ],
   "source": [
    "from iexfinance.stocks import get_historical_data\n",
    "import iexfinance as iex\n",
    "\n",
    "IEX_TOKEN = os.getenv('IEX_TOKEN')\n",
    "print(IEX_TOKEN)"
   ]
  },
  {
   "cell_type": "markdown",
   "metadata": {},
   "source": [
    "# Data Collection\n",
    "\n",
    "In this step, you will need to use the IEX api to fetch closing prices for the `SPY` and `AGG` tickers. Save the results as a pandas DataFrame"
   ]
  },
  {
   "cell_type": "code",
   "execution_count": 6,
   "metadata": {},
   "outputs": [],
   "source": [
    "#list_of_tickers = [\"SPY\", \"AGG\"]\n",
    "#end_date = datetime.now()    \n",
    "#start_date = end_date - timedelta(days=365)\n",
    "\n",
    "#spy_data = pd.DataFrame(get_historical_data(\"SPY\", start_date, end_date, close_only=True, token = IEX_TOKEN, infer_datetimeformat = True))\n",
    "#agg_data = pd.DataFrame(get_historical_data(\"AGG\", start_date, end_date, close_only=True, token = IEX_TOKEN, infer_datetimeformat = True))\n",
    "\n",
    "#spy_data.to_pickle('spy_data.pickle')\n",
    "#agg_data.to_pickle('agg_data.pickle')"
   ]
  },
  {
   "cell_type": "code",
   "execution_count": 7,
   "metadata": {},
   "outputs": [],
   "source": [
    "spy_data = pd.read_pickle('spy_data.pickle')\n",
    "agg_data = pd.read_pickle('agg_data.pickle')"
   ]
  },
  {
   "cell_type": "code",
   "execution_count": 8,
   "metadata": {},
   "outputs": [
    {
     "data": {
      "text/html": [
       "<div>\n",
       "<style scoped>\n",
       "    .dataframe tbody tr th:only-of-type {\n",
       "        vertical-align: middle;\n",
       "    }\n",
       "\n",
       "    .dataframe tbody tr th {\n",
       "        vertical-align: top;\n",
       "    }\n",
       "\n",
       "    .dataframe thead th {\n",
       "        text-align: right;\n",
       "    }\n",
       "</style>\n",
       "<table border=\"1\" class=\"dataframe\">\n",
       "  <thead>\n",
       "    <tr style=\"text-align: right;\">\n",
       "      <th></th>\n",
       "      <th>SPY Closing Price</th>\n",
       "      <th>AGG Closing Price</th>\n",
       "    </tr>\n",
       "  </thead>\n",
       "  <tbody>\n",
       "    <tr>\n",
       "      <td>2019-01-29</td>\n",
       "      <td>263.41</td>\n",
       "      <td>106.90</td>\n",
       "    </tr>\n",
       "    <tr>\n",
       "      <td>2019-01-30</td>\n",
       "      <td>267.58</td>\n",
       "      <td>107.14</td>\n",
       "    </tr>\n",
       "    <tr>\n",
       "      <td>2019-01-31</td>\n",
       "      <td>269.93</td>\n",
       "      <td>107.46</td>\n",
       "    </tr>\n",
       "    <tr>\n",
       "      <td>2019-02-01</td>\n",
       "      <td>270.06</td>\n",
       "      <td>106.97</td>\n",
       "    </tr>\n",
       "    <tr>\n",
       "      <td>2019-02-04</td>\n",
       "      <td>271.96</td>\n",
       "      <td>106.88</td>\n",
       "    </tr>\n",
       "    <tr>\n",
       "      <td>...</td>\n",
       "      <td>...</td>\n",
       "      <td>...</td>\n",
       "    </tr>\n",
       "    <tr>\n",
       "      <td>2020-01-22</td>\n",
       "      <td>331.34</td>\n",
       "      <td>113.43</td>\n",
       "    </tr>\n",
       "    <tr>\n",
       "      <td>2020-01-23</td>\n",
       "      <td>331.72</td>\n",
       "      <td>113.58</td>\n",
       "    </tr>\n",
       "    <tr>\n",
       "      <td>2020-01-24</td>\n",
       "      <td>328.77</td>\n",
       "      <td>113.79</td>\n",
       "    </tr>\n",
       "    <tr>\n",
       "      <td>2020-01-27</td>\n",
       "      <td>323.50</td>\n",
       "      <td>114.14</td>\n",
       "    </tr>\n",
       "    <tr>\n",
       "      <td>2020-01-28</td>\n",
       "      <td>326.89</td>\n",
       "      <td>114.04</td>\n",
       "    </tr>\n",
       "  </tbody>\n",
       "</table>\n",
       "<p>252 rows × 2 columns</p>\n",
       "</div>"
      ],
      "text/plain": [
       "            SPY Closing Price  AGG Closing Price\n",
       "2019-01-29             263.41             106.90\n",
       "2019-01-30             267.58             107.14\n",
       "2019-01-31             269.93             107.46\n",
       "2019-02-01             270.06             106.97\n",
       "2019-02-04             271.96             106.88\n",
       "...                       ...                ...\n",
       "2020-01-22             331.34             113.43\n",
       "2020-01-23             331.72             113.58\n",
       "2020-01-24             328.77             113.79\n",
       "2020-01-27             323.50             114.14\n",
       "2020-01-28             326.89             114.04\n",
       "\n",
       "[252 rows x 2 columns]"
      ]
     },
     "execution_count": 8,
     "metadata": {},
     "output_type": "execute_result"
    }
   ],
   "source": [
    "spy_data_transposed = spy_data.transpose()\n",
    "spy_data_transposed.columns = ['close','volume']\n",
    "spy_data_close = spy_data_transposed['close']\n",
    "\n",
    "agg_data_transposed = agg_data.transpose()\n",
    "agg_data_transposed.columns = ['close','volume']\n",
    "agg_data_close = agg_data_transposed['close']\n",
    "\n",
    "closing_prices = pd.concat([spy_data_close, agg_data_close], axis = 'columns', join = 'inner')\n",
    "closing_prices.columns = ['SPY Closing Price', 'AGG Closing Price']\n",
    "closing_prices"
   ]
  },
  {
   "cell_type": "markdown",
   "metadata": {},
   "source": [
    "# Monte Carlo Simulation\n",
    "\n",
    "In this step, you will run Monte Carlo Simulations for your portfolio to model portfolio performance at different retirement ages. \n",
    "\n",
    "Complete the following steps:\n",
    "1. Calculate the daily returns for the SPY and AGG closing prices.\n",
    "2. Calculate volatility for both the SPY and AGG closing prices.\n",
    "3. Find the last day's closing price for both stocks and save those as variables.\n",
    "4. Run a Monte Carlo Simulation of at least 500 iterations and generate at least 30 years of closing prices\n",
    "\n",
    "### HINTS:\n",
    "There are 252 trading days per year, so the number of records to generate for each Monte Carlo run will be 252 days * 30 years"
   ]
  },
  {
   "cell_type": "code",
   "execution_count": 9,
   "metadata": {},
   "outputs": [
    {
     "data": {
      "text/html": [
       "<div>\n",
       "<style scoped>\n",
       "    .dataframe tbody tr th:only-of-type {\n",
       "        vertical-align: middle;\n",
       "    }\n",
       "\n",
       "    .dataframe tbody tr th {\n",
       "        vertical-align: top;\n",
       "    }\n",
       "\n",
       "    .dataframe thead th {\n",
       "        text-align: right;\n",
       "    }\n",
       "</style>\n",
       "<table border=\"1\" class=\"dataframe\">\n",
       "  <thead>\n",
       "    <tr style=\"text-align: right;\">\n",
       "      <th></th>\n",
       "      <th>SPY roi</th>\n",
       "      <th>AGG roi</th>\n",
       "    </tr>\n",
       "  </thead>\n",
       "  <tbody>\n",
       "    <tr>\n",
       "      <td>2019-01-29</td>\n",
       "      <td>NaN</td>\n",
       "      <td>NaN</td>\n",
       "    </tr>\n",
       "    <tr>\n",
       "      <td>2019-01-30</td>\n",
       "      <td>0.015831</td>\n",
       "      <td>0.002245</td>\n",
       "    </tr>\n",
       "    <tr>\n",
       "      <td>2019-01-31</td>\n",
       "      <td>0.008782</td>\n",
       "      <td>0.002987</td>\n",
       "    </tr>\n",
       "    <tr>\n",
       "      <td>2019-02-01</td>\n",
       "      <td>0.000482</td>\n",
       "      <td>-0.004560</td>\n",
       "    </tr>\n",
       "    <tr>\n",
       "      <td>2019-02-04</td>\n",
       "      <td>0.007035</td>\n",
       "      <td>-0.000841</td>\n",
       "    </tr>\n",
       "    <tr>\n",
       "      <td>...</td>\n",
       "      <td>...</td>\n",
       "      <td>...</td>\n",
       "    </tr>\n",
       "    <tr>\n",
       "      <td>2020-01-22</td>\n",
       "      <td>0.000121</td>\n",
       "      <td>0.000529</td>\n",
       "    </tr>\n",
       "    <tr>\n",
       "      <td>2020-01-23</td>\n",
       "      <td>0.001147</td>\n",
       "      <td>0.001322</td>\n",
       "    </tr>\n",
       "    <tr>\n",
       "      <td>2020-01-24</td>\n",
       "      <td>-0.008893</td>\n",
       "      <td>0.001849</td>\n",
       "    </tr>\n",
       "    <tr>\n",
       "      <td>2020-01-27</td>\n",
       "      <td>-0.016029</td>\n",
       "      <td>0.003076</td>\n",
       "    </tr>\n",
       "    <tr>\n",
       "      <td>2020-01-28</td>\n",
       "      <td>0.010479</td>\n",
       "      <td>-0.000876</td>\n",
       "    </tr>\n",
       "  </tbody>\n",
       "</table>\n",
       "<p>252 rows × 2 columns</p>\n",
       "</div>"
      ],
      "text/plain": [
       "             SPY roi   AGG roi\n",
       "2019-01-29       NaN       NaN\n",
       "2019-01-30  0.015831  0.002245\n",
       "2019-01-31  0.008782  0.002987\n",
       "2019-02-01  0.000482 -0.004560\n",
       "2019-02-04  0.007035 -0.000841\n",
       "...              ...       ...\n",
       "2020-01-22  0.000121  0.000529\n",
       "2020-01-23  0.001147  0.001322\n",
       "2020-01-24 -0.008893  0.001849\n",
       "2020-01-27 -0.016029  0.003076\n",
       "2020-01-28  0.010479 -0.000876\n",
       "\n",
       "[252 rows x 2 columns]"
      ]
     },
     "execution_count": 9,
     "metadata": {},
     "output_type": "execute_result"
    }
   ],
   "source": [
    "# Calculate the daily roi for the stocks\n",
    "roi = closing_prices.pct_change()\n",
    "roi.columns = ['SPY roi', 'AGG roi']\n",
    "roi"
   ]
  },
  {
   "cell_type": "code",
   "execution_count": 10,
   "metadata": {},
   "outputs": [
    {
     "data": {
      "text/plain": [
       "SPY Volatility    0.00748\n",
       "AGG Volatility    0.00209\n",
       "dtype: float64"
      ]
     },
     "execution_count": 10,
     "metadata": {},
     "output_type": "execute_result"
    }
   ],
   "source": [
    "# Calculate volatility\n",
    "volatility = roi.std()\n",
    "volatility.index = ['SPY Volatility', 'AGG Volatility']\n",
    "volatility"
   ]
  },
  {
   "cell_type": "code",
   "execution_count": 11,
   "metadata": {},
   "outputs": [],
   "source": [
    "agg_average_daily_return = roi['AGG roi'].mean()\n",
    "spy_average_daily_return = roi['SPY roi'].mean()"
   ]
  },
  {
   "cell_type": "code",
   "execution_count": 12,
   "metadata": {},
   "outputs": [],
   "source": [
    "# Save the last day's closing price\n",
    "agg_last_price = closing_prices['AGG Closing Price'][-1]\n",
    "spy_last_price = closing_prices['SPY Closing Price'][-1]"
   ]
  },
  {
   "cell_type": "code",
   "execution_count": 25,
   "metadata": {},
   "outputs": [],
   "source": [
    "# Setup the Monte Carlo Parameters\n",
    "number_simulations = 500\n",
    "number_records = 252*30\n",
    "monte_carlo = pd.DataFrame()"
   ]
  },
  {
   "cell_type": "code",
   "execution_count": 26,
   "metadata": {},
   "outputs": [
    {
     "data": {
      "text/html": [
       "<div>\n",
       "<style scoped>\n",
       "    .dataframe tbody tr th:only-of-type {\n",
       "        vertical-align: middle;\n",
       "    }\n",
       "\n",
       "    .dataframe tbody tr th {\n",
       "        vertical-align: top;\n",
       "    }\n",
       "\n",
       "    .dataframe thead th {\n",
       "        text-align: right;\n",
       "    }\n",
       "</style>\n",
       "<table border=\"1\" class=\"dataframe\">\n",
       "  <thead>\n",
       "    <tr style=\"text-align: right;\">\n",
       "      <th></th>\n",
       "      <th>0</th>\n",
       "      <th>1</th>\n",
       "      <th>2</th>\n",
       "      <th>3</th>\n",
       "      <th>4</th>\n",
       "      <th>5</th>\n",
       "      <th>6</th>\n",
       "      <th>7</th>\n",
       "      <th>8</th>\n",
       "      <th>9</th>\n",
       "      <th>...</th>\n",
       "      <th>490</th>\n",
       "      <th>491</th>\n",
       "      <th>492</th>\n",
       "      <th>493</th>\n",
       "      <th>494</th>\n",
       "      <th>495</th>\n",
       "      <th>496</th>\n",
       "      <th>497</th>\n",
       "      <th>498</th>\n",
       "      <th>499</th>\n",
       "    </tr>\n",
       "  </thead>\n",
       "  <tbody>\n",
       "    <tr>\n",
       "      <td>0</td>\n",
       "      <td>1.000000</td>\n",
       "      <td>1.000000</td>\n",
       "      <td>1.000000</td>\n",
       "      <td>1.000000</td>\n",
       "      <td>1.000000</td>\n",
       "      <td>1.000000</td>\n",
       "      <td>1.000000</td>\n",
       "      <td>1.000000</td>\n",
       "      <td>1.000000</td>\n",
       "      <td>1.000000</td>\n",
       "      <td>...</td>\n",
       "      <td>1.000000</td>\n",
       "      <td>1.000000</td>\n",
       "      <td>1.000000</td>\n",
       "      <td>1.000000</td>\n",
       "      <td>1.000000</td>\n",
       "      <td>1.000000</td>\n",
       "      <td>1.000000</td>\n",
       "      <td>1.000000</td>\n",
       "      <td>1.000000</td>\n",
       "      <td>1.000000</td>\n",
       "    </tr>\n",
       "    <tr>\n",
       "      <td>1</td>\n",
       "      <td>0.997435</td>\n",
       "      <td>0.993923</td>\n",
       "      <td>0.998673</td>\n",
       "      <td>0.998629</td>\n",
       "      <td>1.005252</td>\n",
       "      <td>1.007096</td>\n",
       "      <td>1.004445</td>\n",
       "      <td>0.988694</td>\n",
       "      <td>0.991822</td>\n",
       "      <td>1.001052</td>\n",
       "      <td>...</td>\n",
       "      <td>1.000353</td>\n",
       "      <td>1.003394</td>\n",
       "      <td>1.000420</td>\n",
       "      <td>1.000328</td>\n",
       "      <td>1.001159</td>\n",
       "      <td>1.003134</td>\n",
       "      <td>0.999479</td>\n",
       "      <td>1.004695</td>\n",
       "      <td>1.003531</td>\n",
       "      <td>0.989841</td>\n",
       "    </tr>\n",
       "    <tr>\n",
       "      <td>2</td>\n",
       "      <td>0.997731</td>\n",
       "      <td>0.990010</td>\n",
       "      <td>1.005955</td>\n",
       "      <td>1.001221</td>\n",
       "      <td>1.004151</td>\n",
       "      <td>1.001951</td>\n",
       "      <td>1.001599</td>\n",
       "      <td>0.985910</td>\n",
       "      <td>0.990723</td>\n",
       "      <td>1.001604</td>\n",
       "      <td>...</td>\n",
       "      <td>0.997473</td>\n",
       "      <td>1.004883</td>\n",
       "      <td>1.010028</td>\n",
       "      <td>0.997399</td>\n",
       "      <td>1.011806</td>\n",
       "      <td>0.996881</td>\n",
       "      <td>1.006494</td>\n",
       "      <td>1.006345</td>\n",
       "      <td>1.000435</td>\n",
       "      <td>0.998045</td>\n",
       "    </tr>\n",
       "    <tr>\n",
       "      <td>3</td>\n",
       "      <td>0.992127</td>\n",
       "      <td>0.984730</td>\n",
       "      <td>1.005752</td>\n",
       "      <td>1.002504</td>\n",
       "      <td>1.004867</td>\n",
       "      <td>0.993149</td>\n",
       "      <td>1.008006</td>\n",
       "      <td>0.984862</td>\n",
       "      <td>0.988788</td>\n",
       "      <td>1.001658</td>\n",
       "      <td>...</td>\n",
       "      <td>0.999316</td>\n",
       "      <td>1.003906</td>\n",
       "      <td>1.006373</td>\n",
       "      <td>0.995372</td>\n",
       "      <td>1.007382</td>\n",
       "      <td>0.998723</td>\n",
       "      <td>1.009458</td>\n",
       "      <td>1.003309</td>\n",
       "      <td>0.996103</td>\n",
       "      <td>0.999706</td>\n",
       "    </tr>\n",
       "    <tr>\n",
       "      <td>4</td>\n",
       "      <td>0.992059</td>\n",
       "      <td>0.990573</td>\n",
       "      <td>1.007980</td>\n",
       "      <td>1.002896</td>\n",
       "      <td>1.002234</td>\n",
       "      <td>0.990313</td>\n",
       "      <td>1.005914</td>\n",
       "      <td>0.984734</td>\n",
       "      <td>0.989168</td>\n",
       "      <td>1.002790</td>\n",
       "      <td>...</td>\n",
       "      <td>1.003557</td>\n",
       "      <td>1.002694</td>\n",
       "      <td>1.007945</td>\n",
       "      <td>0.991763</td>\n",
       "      <td>1.004018</td>\n",
       "      <td>0.998966</td>\n",
       "      <td>1.013296</td>\n",
       "      <td>1.008148</td>\n",
       "      <td>0.993509</td>\n",
       "      <td>1.000478</td>\n",
       "    </tr>\n",
       "  </tbody>\n",
       "</table>\n",
       "<p>5 rows × 500 columns</p>\n",
       "</div>"
      ],
      "text/plain": [
       "        0         1         2         3         4         5         6    \\\n",
       "0  1.000000  1.000000  1.000000  1.000000  1.000000  1.000000  1.000000   \n",
       "1  0.997435  0.993923  0.998673  0.998629  1.005252  1.007096  1.004445   \n",
       "2  0.997731  0.990010  1.005955  1.001221  1.004151  1.001951  1.001599   \n",
       "3  0.992127  0.984730  1.005752  1.002504  1.004867  0.993149  1.008006   \n",
       "4  0.992059  0.990573  1.007980  1.002896  1.002234  0.990313  1.005914   \n",
       "\n",
       "        7         8         9    ...       490       491       492       493  \\\n",
       "0  1.000000  1.000000  1.000000  ...  1.000000  1.000000  1.000000  1.000000   \n",
       "1  0.988694  0.991822  1.001052  ...  1.000353  1.003394  1.000420  1.000328   \n",
       "2  0.985910  0.990723  1.001604  ...  0.997473  1.004883  1.010028  0.997399   \n",
       "3  0.984862  0.988788  1.001658  ...  0.999316  1.003906  1.006373  0.995372   \n",
       "4  0.984734  0.989168  1.002790  ...  1.003557  1.002694  1.007945  0.991763   \n",
       "\n",
       "        494       495       496       497       498       499  \n",
       "0  1.000000  1.000000  1.000000  1.000000  1.000000  1.000000  \n",
       "1  1.001159  1.003134  0.999479  1.004695  1.003531  0.989841  \n",
       "2  1.011806  0.996881  1.006494  1.006345  1.000435  0.998045  \n",
       "3  1.007382  0.998723  1.009458  1.003309  0.996103  0.999706  \n",
       "4  1.004018  0.998966  1.013296  1.008148  0.993509  1.000478  \n",
       "\n",
       "[5 rows x 500 columns]"
      ]
     },
     "execution_count": 26,
     "metadata": {},
     "output_type": "execute_result"
    }
   ],
   "source": [
    "# Run the Monte Carlo Simulation\n",
    "simulated_price_df = pd.DataFrame()\n",
    "portfolio_cumulative_returns = pd.DataFrame()\n",
    "\n",
    "for x in range(number_simulations):\n",
    "\n",
    "    simulated_agg_prices = [agg_last_price]\n",
    "    simulated_spy_prices = [spy_last_price]\n",
    "    \n",
    "    simulated_agg_price = np.random.normal(agg_average_daily_return, volatility['AGG Volatility'], number_records)\n",
    "    simulated_spy_price = np.random.normal(spy_average_daily_return, volatility['SPY Volatility'], number_records)\n",
    "    \n",
    "    for i in range(number_records):\n",
    "        \n",
    "        simulated_agg_prices.append(simulated_agg_prices[-1] * (1+ simulated_agg_price[i]))\n",
    "        simulated_spy_prices.append(simulated_spy_prices[-1] * (1+ simulated_spy_price[i]))\n",
    "    \n",
    "    simulated_price_df[\"AGG prices\"] = pd.Series(simulated_agg_prices)\n",
    "    simulated_price_df[\"SPY prices\"] = pd.Series(simulated_spy_prices)\n",
    "    \n",
    "    simulated_daily_returns = simulated_price_df.pct_change()\n",
    "    \n",
    "    weights = [0.40, 0.60]\n",
    "\n",
    "    portfolio_daily_returns = simulated_daily_returns.dot(weights)\n",
    "    \n",
    "    portfolio_cumulative_returns[x] = (1 + portfolio_daily_returns.fillna(0)).cumprod()\n",
    "\n",
    "portfolio_cumulative_returns.head()"
   ]
  },
  {
   "cell_type": "code",
   "execution_count": 27,
   "metadata": {},
   "outputs": [
    {
     "data": {
      "text/plain": [
       "<matplotlib.axes._subplots.AxesSubplot at 0x123f681d0>"
      ]
     },
     "execution_count": 27,
     "metadata": {},
     "output_type": "execute_result"
    },
    {
     "data": {
      "image/png": "[encoded data removed]",
      "text/plain": [
       "<Figure size 432x288 with 1 Axes>"
      ]
     },
     "metadata": {
      "needs_background": "light"
     },
     "output_type": "display_data"
    }
   ],
   "source": [
    "# Visualize the Simulation\n",
    "plot_title = f\"{x+1} Simulations of Cumulative Portfolio Return Trajectories Over the Next 30 Years\"\n",
    "portfolio_cumulative_returns.plot(legend=None, title=plot_title)"
   ]
  },
  {
   "cell_type": "code",
   "execution_count": 28,
   "metadata": {},
   "outputs": [],
   "source": [
    "# Select the last row for the cumulative returns (cumulative returns at 30 years)\n",
    "last_cumulative_returns = portfolio_cumulative_returns.iloc[-1, :]"
   ]
  },
  {
   "cell_type": "code",
   "execution_count": 29,
   "metadata": {},
   "outputs": [],
   "source": [
    "# Select the last row for the cumulative returns (cumulative returns at 20 years)\n",
    "# YOUR CODE HERE"
   ]
  },
  {
   "cell_type": "code",
   "execution_count": 30,
   "metadata": {},
   "outputs": [
    {
     "data": {
      "text/plain": [
       "0.1     71.834976\n",
       "0.9    180.867714\n",
       "Name: 7560, dtype: float64"
      ]
     },
     "execution_count": 30,
     "metadata": {},
     "output_type": "execute_result"
    }
   ],
   "source": [
    "# Display the 90% confidence interval for the ending returns\n",
    "confidence_interval = last_cumulative_returns.quantile(q=[0.1, 0.9])\n",
    "confidence_interval"
   ]
  },
  {
   "cell_type": "code",
   "execution_count": 20,
   "metadata": {},
   "outputs": [
    {
     "data": {
      "text/plain": [
       "<matplotlib.lines.Line2D at 0x116b53bd0>"
      ]
     },
     "execution_count": 20,
     "metadata": {},
     "output_type": "execute_result"
    },
    {
     "data": {
      "image/png": "[encoded data removed]",
      "text/plain": [
       "<Figure size 864x504 with 1 Axes>"
      ]
     },
     "metadata": {
      "needs_background": "light"
     },
     "output_type": "display_data"
    }
   ],
   "source": [
    "# Visualize the distribution of the ending returns\n",
    "plt.figure();\n",
    "last_cumulative_returns.plot(kind='hist', density=True, bins=50,figsize=(12,7))\n",
    "plt.axvline(confidence_interval.iloc[0], color='r')\n",
    "plt.axvline(confidence_interval.iloc[1], color='r')"
   ]
  },
  {
   "cell_type": "markdown",
   "metadata": {},
   "source": [
    "---"
   ]
  },
  {
   "cell_type": "markdown",
   "metadata": {},
   "source": [
    "# Retirement Analysis\n",
    "\n",
    "In this section, you will use the monte carlo model to answer the following retirement planning questions:\n",
    "\n",
    "1. What are the expected cumulative returns at 30 years for the 10th, 50th, and 90th percentiles?\n",
    "2. Given an initial investment of `$20,000`, what is the expected portfolio return in dollars at the 10th, 50th, and 90th percentiles?\n",
    "3. Given the current projected annual income from the Plaid analysis, will a 4% withdraw rate from the retirement portfolio meet or exceed that value at the 10th percentile?\n",
    "4. How would a 50% increase in the initial investment amount affect the 4% retirement withdrawal?"
   ]
  },
  {
   "cell_type": "markdown",
   "metadata": {},
   "source": [
    "### What are the expected cumulative returns at 30 years for the 10th, 50th, and 90th percentiles?"
   ]
  },
  {
   "cell_type": "code",
   "execution_count": 21,
   "metadata": {},
   "outputs": [
    {
     "name": "stdout",
     "output_type": "stream",
     "text": [
      "10th percentile: 1.0689356753762864\n",
      "50th percentile: 1.1670210942331423\n",
      "90th percentile: 1.2701673282358423\n"
     ]
    }
   ],
   "source": [
    "ten = last_cumulative_returns.quantile(q=.1)\n",
    "fifty = last_cumulative_returns.quantile(q=.5)\n",
    "ninety = last_cumulative_returns.quantile(q=.9)\n",
    "print(f\"10th percentile: {ten}\")\n",
    "print(f\"50th percentile: {fifty}\")\n",
    "print(f\"90th percentile: {ninety}\")"
   ]
  },
  {
   "cell_type": "markdown",
   "metadata": {},
   "source": [
    "### Given an initial investment of `$20,000`, what is the expected portfolio return in dollars at the 10th, 50th, and 90th percentiles?"
   ]
  },
  {
   "cell_type": "code",
   "execution_count": 22,
   "metadata": {},
   "outputs": [
    {
     "name": "stdout",
     "output_type": "stream",
     "text": [
      "10th percentile: 41378.713507525725\n",
      "50th percentile: 43340.42188466285\n",
      "90th percentile: 45403.34656471685\n"
     ]
    }
   ],
   "source": [
    "initial_investment = 20000\n",
    "return_ten = initial_investment + (initial_investment * ten)\n",
    "return_fifty = initial_investment + (initial_investment * fifty)\n",
    "return_ninety = initial_investment + (initial_investment * ninety)\n",
    "print(f\"10th percentile: {return_ten}\")\n",
    "print(f\"50th percentile: {return_fifty}\")\n",
    "print(f\"90th percentile: {return_ninety}\")"
   ]
  },
  {
   "cell_type": "markdown",
   "metadata": {},
   "source": [
    "### Given the current projected annual income from the Plaid analysis, will a 4% withdraw rate from the retirement portfolio meet or exceed that value at the 10th percentile?\n",
    "\n",
    "Note: This is effectively saying that 90% of the expected returns will be greater than the return at the 10th percentile, so this can help measure the uncertainty about having enough funds at retirement"
   ]
  },
  {
   "cell_type": "code",
   "execution_count": null,
   "metadata": {},
   "outputs": [],
   "source": []
  },
  {
   "cell_type": "markdown",
   "metadata": {},
   "source": [
    "### How would a 50% increase in the initial investment amount affect the 4% retirement withdrawal?"
   ]
  },
  {
   "cell_type": "code",
   "execution_count": null,
   "metadata": {},
   "outputs": [],
   "source": []
  },
  {
   "cell_type": "markdown",
   "metadata": {},
   "source": [
    "### Optional Challenge\n",
    "\n",
    "In this section, you will calculate and plot the cumulative returns for the median and 90% confidence intervals. This plot shows the expected cumulative returns for any given day between the first day and the last day of investment. "
   ]
  },
  {
   "cell_type": "code",
   "execution_count": null,
   "metadata": {},
   "outputs": [],
   "source": [
    "# YOUR CODE HERE"
   ]
  }
 ],
 "metadata": {
  "kernel_info": {
   "name": "dev"
  },
  "kernelspec": {
   "display_name": "Python 3",
   "language": "python",
   "name": "python3"
  },
  "language_info": {
   "codemirror_mode": {
    "name": "ipython",
    "version": 3
   },
   "file_extension": ".py",
   "mimetype": "text/x-python",
   "name": "python",
   "nbconvert_exporter": "python",
   "pygments_lexer": "ipython3",
   "version": "3.7.4"
  },
  "nteract": {
   "version": "0.12.3"
  }
 },
 "nbformat": 4,
 "nbformat_minor": 4
}
